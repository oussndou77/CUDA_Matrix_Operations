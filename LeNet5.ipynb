{
 "cells": [
  {
   "cell_type": "code",
   "execution_count": 1,
   "id": "a490f7a0-cb6d-4048-87e6-3fa66ee45232",
   "metadata": {},
   "outputs": [
    {
     "name": "stdout",
     "output_type": "stream",
     "text": [
      "2.13.1\n",
      "Looking in indexes: https://pypi.org/simple, https://pypi.ngc.nvidia.com\n",
      "Requirement already satisfied: h5py in c:\\users\\user\\anaconda3\\lib\\site-packages (3.7.0)\n",
      "Requirement already satisfied: numpy>=1.14.5 in c:\\users\\user\\anaconda3\\lib\\site-packages (from h5py) (1.24.3)\n"
     ]
    }
   ],
   "source": [
    "import tensorflow as tf\n",
    "print(tf.__version__)\n",
    "from tensorflow import keras\n",
    "import numpy as np\n",
    "from matplotlib import pyplot\n",
    "from keras.models import model_from_json\n",
    "import os\n",
    "!pip install h5py"
   ]
  },
  {
   "cell_type": "code",
   "execution_count": 2,
   "id": "93d3031b-4533-4aec-a39f-02e28c2e70a7",
   "metadata": {},
   "outputs": [
    {
     "data": {
      "text/plain": [
       "(60000, 28, 28)"
      ]
     },
     "execution_count": 2,
     "metadata": {},
     "output_type": "execute_result"
    }
   ],
   "source": [
    "(train_x, train_y), (test_x, test_y) = keras.datasets.mnist.load_data()\n",
    "train_x = train_x / 255.0\n",
    "test_x = test_x / 255.0\n",
    "train_x.shape"
   ]
  },
  {
   "cell_type": "code",
   "execution_count": 3,
   "id": "f25fabb6-19d5-49a4-9598-085544a8aab2",
   "metadata": {},
   "outputs": [
    {
     "data": {
      "text/plain": [
       "TensorShape([60000, 28, 28, 1])"
      ]
     },
     "execution_count": 3,
     "metadata": {},
     "output_type": "execute_result"
    }
   ],
   "source": [
    "train_x = tf.expand_dims(train_x, 3)\n",
    "test_x = tf.expand_dims(test_x, 3)\n",
    "val_x = train_x[:5000]\n",
    "val_y = train_y[:5000]\n",
    "train_x.shape"
   ]
  },
  {
   "cell_type": "code",
   "execution_count": 4,
   "id": "932346b8-8227-448e-aa93-8912ca971962",
   "metadata": {},
   "outputs": [],
   "source": [
    "lenet_5_model = keras.models.Sequential([\n",
    "    keras.Input(shape=train_x[0].shape), # Input layer\n",
    "    keras.layers.Conv2D(6, kernel_size=5, strides=1, activation='tanh', padding='same'), # C1\n",
    "    keras.layers.AveragePooling2D(pool_size=(2, 2)), # S2\n",
    "    keras.layers.Conv2D(16, kernel_size=5, strides=1, activation='tanh', padding='valid'), # C3\n",
    "    keras.layers.AveragePooling2D(pool_size=(2, 2)), # S4\n",
    "    keras.layers.Flatten(), # Flatten\n",
    "    keras.layers.Dense(120, activation='tanh'), # C5\n",
    "    keras.layers.Dense(84, activation='tanh'), # F6\n",
    "    keras.layers.Dense(10, activation='softmax') # Output layer\n",
    "])\n"
   ]
  },
  {
   "cell_type": "code",
   "execution_count": 5,
   "id": "0f9c7fb0-964d-4279-8347-1533097d7c66",
   "metadata": {},
   "outputs": [],
   "source": [
    "lenet_5_model.compile(optimizer='adam',loss=keras.losses.sparse_categorical_crossentropy, metrics=['accuracy'])"
   ]
  },
  {
   "cell_type": "code",
   "execution_count": 6,
   "id": "c1dadc66-075f-4398-9849-4dc87647163f",
   "metadata": {},
   "outputs": [
    {
     "name": "stdout",
     "output_type": "stream",
     "text": [
      "Epoch 1/5\n",
      "1875/1875 [==============================] - 27s 14ms/step - loss: 0.2261 - accuracy: 0.9327 - val_loss: 0.0895 - val_accuracy: 0.9754\n",
      "Epoch 2/5\n",
      "1875/1875 [==============================] - 24s 13ms/step - loss: 0.0889 - accuracy: 0.9728 - val_loss: 0.0535 - val_accuracy: 0.9840\n",
      "Epoch 3/5\n",
      "1875/1875 [==============================] - 25s 13ms/step - loss: 0.0594 - accuracy: 0.9817 - val_loss: 0.0380 - val_accuracy: 0.9904\n",
      "Epoch 4/5\n",
      "1875/1875 [==============================] - 24s 13ms/step - loss: 0.0461 - accuracy: 0.9855 - val_loss: 0.0317 - val_accuracy: 0.9928\n",
      "Epoch 5/5\n",
      "1875/1875 [==============================] - 24s 13ms/step - loss: 0.0354 - accuracy: 0.9885 - val_loss: 0.0275 - val_accuracy: 0.9920\n"
     ]
    },
    {
     "data": {
      "text/plain": [
       "<keras.src.callbacks.History at 0x1e1c6bf41d0>"
      ]
     },
     "execution_count": 6,
     "metadata": {},
     "output_type": "execute_result"
    }
   ],
   "source": [
    "lenet_5_model.fit(train_x, train_y, epochs=5, validation_data=(val_x, val_y))"
   ]
  },
  {
   "cell_type": "code",
   "execution_count": 7,
   "id": "b9886896-43dc-4831-a595-7f040928b87f",
   "metadata": {},
   "outputs": [
    {
     "name": "stdout",
     "output_type": "stream",
     "text": [
      "313/313 [==============================] - 2s 6ms/step - loss: 0.0511 - accuracy: 0.9849\n"
     ]
    },
    {
     "data": {
      "text/plain": [
       "[0.05110897868871689, 0.9848999977111816]"
      ]
     },
     "execution_count": 7,
     "metadata": {},
     "output_type": "execute_result"
    }
   ],
   "source": [
    "lenet_5_model.evaluate(test_x, test_y)"
   ]
  },
  {
   "cell_type": "code",
   "execution_count": 8,
   "id": "e6e8ca62-f863-4e73-acac-25cd7c8d91f9",
   "metadata": {},
   "outputs": [
    {
     "data": {
      "image/png": "[encoded data removed]",
      "text/plain": [
       "<Figure size 640x480 with 1 Axes>"
      ]
     },
     "metadata": {},
     "output_type": "display_data"
    },
    {
     "data": {
      "image/png": "[encoded data removed]",
      "text/plain": [
       "<Figure size 640x480 with 1 Axes>"
      ]
     },
     "metadata": {},
     "output_type": "display_data"
    },
    {
     "data": {
      "image/png": "[encoded data removed]",
      "text/plain": [
       "<Figure size 640x480 with 1 Axes>"
      ]
     },
     "metadata": {},
     "output_type": "display_data"
    }
   ],
   "source": [
    "for i in range(3):  \n",
    "    pyplot.subplot(330 + 1 + i)\n",
    "    pyplot.imshow(train_x[i], cmap=pyplot.get_cmap('gray'))\n",
    "    pyplot.show()"
   ]
  },
  {
   "cell_type": "code",
   "execution_count": 10,
   "id": "0ab25196",
   "metadata": {},
   "outputs": [
    {
     "name": "stdout",
     "output_type": "stream",
     "text": [
      "2.13.1\n",
      "3.8.0\n"
     ]
    }
   ],
   "source": [
    "import tensorflow as tf\n",
    "import h5py\n",
    "print(tf.__version__)  # Ensure it's 2.13.1\n",
    "print(h5py.__version__)  # Should match installed version\n"
   ]
  },
  {
   "cell_type": "code",
   "execution_count": 12,
   "id": "2eeda2e5",
   "metadata": {},
   "outputs": [
    {
     "name": "stderr",
     "output_type": "stream",
     "text": [
      "C:\\Users\\User\\anaconda3\\Lib\\site-packages\\keras\\src\\engine\\training.py:3000: UserWarning: You are saving your model as an HDF5 file via `model.save()`. This file format is considered legacy. We recommend using instead the native Keras format, e.g. `model.save('my_model.keras')`.\n",
      "  saving_api.save_model(\n"
     ]
    }
   ],
   "source": [
    "lenet_5_model.save('lenet_5_model.h5')\n"
   ]
  },
  {
   "cell_type": "code",
   "execution_count": 13,
   "id": "329cc15c-9b02-462d-b4e3-5b9d4c765bd8",
   "metadata": {},
   "outputs": [
    {
     "name": "stdout",
     "output_type": "stream",
     "text": [
      "['.git', '.gitignore', '.ipynb_checkpoints', 'biases_layer_0.bin', 'biases_layer_2.bin', 'biases_layer_5.bin', 'biases_layer_6.bin', 'biases_layer_7.bin', 'fashionmnist_model.json', 'LeNet5', 'LeNet5.ipynb', 'lenet_5_model.h5', 'lenet_5_model.keras', 'main.cu', 'matrix_operations.exe', 'matrix_operations.exp', 'matrix_operations.lib', 'printMNIST.cu', 'printMNIST.exe', 'printMNIST.exp', 'printMNIST.lib', 'README.md', 'train-images.idx3-ubyte', 'weights_layer_0.bin', 'weights_layer_2.bin', 'weights_layer_5.bin', 'weights_layer_6.bin', 'weights_layer_7.bin']\n"
     ]
    }
   ],
   "source": [
    "\n",
    "lenet_5_model.save('lenet_5_model.keras')\n",
    "\n",
    "print(os.listdir('.'))  # Liste des fichiers dans le répertoire actuel\n"
   ]
  },
  {
   "cell_type": "code",
   "execution_count": 14,
   "id": "d883f56b-b134-4d81-aedb-1a0213cf2e5a",
   "metadata": {},
   "outputs": [],
   "source": [
    "lenet_5_model.save(\"my.h5\")"
   ]
  },
  {
   "cell_type": "code",
   "execution_count": 15,
   "id": "e4039b16-8b65-4686-8e77-d8933555c2b1",
   "metadata": {},
   "outputs": [
    {
     "name": "stdout",
     "output_type": "stream",
     "text": [
      "Model: \"sequential\"\n",
      "_________________________________________________________________\n",
      " Layer (type)                Output Shape              Param #   \n",
      "=================================================================\n",
      " conv2d (Conv2D)             (None, 28, 28, 6)         156       \n",
      "                                                                 \n",
      " average_pooling2d (Average  (None, 14, 14, 6)         0         \n",
      " Pooling2D)                                                      \n",
      "                                                                 \n",
      " conv2d_1 (Conv2D)           (None, 10, 10, 16)        2416      \n",
      "                                                                 \n",
      " average_pooling2d_1 (Avera  (None, 5, 5, 16)          0         \n",
      " gePooling2D)                                                    \n",
      "                                                                 \n",
      " flatten (Flatten)           (None, 400)               0         \n",
      "                                                                 \n",
      " dense (Dense)               (None, 120)               48120     \n",
      "                                                                 \n",
      " dense_1 (Dense)             (None, 84)                10164     \n",
      "                                                                 \n",
      " dense_2 (Dense)             (None, 10)                850       \n",
      "                                                                 \n",
      "=================================================================\n",
      "Total params: 61706 (241.04 KB)\n",
      "Trainable params: 61706 (241.04 KB)\n",
      "Non-trainable params: 0 (0.00 Byte)\n",
      "_________________________________________________________________\n"
     ]
    }
   ],
   "source": [
    "lenet_5_model.summary()"
   ]
  },
  {
   "cell_type": "code",
   "execution_count": 16,
   "id": "24d1a878-c7a2-4688-9dca-35ab8c5edd2c",
   "metadata": {},
   "outputs": [],
   "source": [
    "json_model = lenet_5_model.to_json()"
   ]
  },
  {
   "cell_type": "code",
   "execution_count": 17,
   "id": "c3a3b789-e537-4677-931e-6688b2786be7",
   "metadata": {},
   "outputs": [],
   "source": [
    "with open('fashionmnist_model.json', 'w') as json_file:\n",
    "    json_file.write(json_model)"
   ]
  },
  {
   "cell_type": "code",
   "execution_count": 18,
   "id": "14bd5eec-4991-4eed-ac6e-4d6d126a167d",
   "metadata": {},
   "outputs": [],
   "source": [
    "lenet_5_model.save_weights('FashionMNIST_weights.h5')"
   ]
  },
  {
   "cell_type": "code",
   "execution_count": 19,
   "id": "929aed57-808a-4df6-a9f7-ce9eec9d4ba1",
   "metadata": {},
   "outputs": [
    {
     "data": {
      "text/plain": [
       "array([[[[-0.3902967 , -0.13272628,  0.13941945, -0.10985923,\n",
       "          -0.13583525, -0.04355846]],\n",
       "\n",
       "        [[-0.22852767, -0.02362846,  0.33650032, -0.35921463,\n",
       "          -0.19405973, -0.05409855]],\n",
       "\n",
       "        [[-0.18053542, -0.14408349,  0.2921454 , -0.34989375,\n",
       "          -0.22376582,  0.3833943 ]],\n",
       "\n",
       "        [[-0.3626143 ,  0.26750877, -0.10831389, -0.28575486,\n",
       "          -0.11939795,  0.37640867]],\n",
       "\n",
       "        [[-0.358549  ,  0.19134206, -0.11661831, -0.19824503,\n",
       "          -0.19492535, -0.1157228 ]]],\n",
       "\n",
       "\n",
       "       [[[-0.07248505, -0.17035735,  0.3290738 , -0.13757536,\n",
       "          -0.42789072, -0.16373561]],\n",
       "\n",
       "        [[ 0.07301694, -0.22822028,  0.52422625, -0.07423278,\n",
       "          -0.57307345,  0.4232313 ]],\n",
       "\n",
       "        [[-0.1179457 ,  0.04038887,  0.41415536, -0.01529332,\n",
       "          -0.63034976,  0.4938441 ]],\n",
       "\n",
       "        [[ 0.0080129 ,  0.40954384, -0.06260637, -0.0866897 ,\n",
       "          -0.6235114 ,  0.39918375]],\n",
       "\n",
       "        [[-0.25877064,  0.5496686 , -0.0016272 , -0.09198371,\n",
       "          -0.5162894 ,  0.1112507 ]]],\n",
       "\n",
       "\n",
       "       [[[-0.02257522, -0.06273518,  0.41340828,  0.24238998,\n",
       "          -0.07481915, -0.21337229]],\n",
       "\n",
       "        [[ 0.37533426, -0.1478731 ,  0.45780748,  0.30613694,\n",
       "          -0.059812  ,  0.30870238]],\n",
       "\n",
       "        [[ 0.24880752,  0.23692943,  0.13615946,  0.5183167 ,\n",
       "          -0.14487736,  0.3462849 ]],\n",
       "\n",
       "        [[ 0.02296684,  0.6825918 , -0.16371952,  0.39680856,\n",
       "          -0.11267245,  0.11733211]],\n",
       "\n",
       "        [[-0.09526341,  0.42617428, -0.25324675,  0.46396658,\n",
       "          -0.1678138 ,  0.0009868 ]]],\n",
       "\n",
       "\n",
       "       [[[ 0.47502056, -0.27909407,  0.30600584,  0.12772878,\n",
       "           0.280047  ,  0.03593938]],\n",
       "\n",
       "        [[ 0.51047707,  0.02687802,  0.03371031,  0.51720405,\n",
       "           0.04619647,  0.0338013 ]],\n",
       "\n",
       "        [[ 0.5355659 ,  0.35197577, -0.01874054,  0.31077856,\n",
       "           0.13403222,  0.10358053]],\n",
       "\n",
       "        [[ 0.05490077,  0.7245933 , -0.11070985,  0.50302505,\n",
       "           0.28512982, -0.09391928]],\n",
       "\n",
       "        [[-0.25464308,  0.07368704, -0.27943796,  0.18873928,\n",
       "           0.24675642, -0.3261039 ]]],\n",
       "\n",
       "\n",
       "       [[[ 0.16311528, -0.19865893,  0.28117082,  0.17307913,\n",
       "           0.35175875, -0.31045425]],\n",
       "\n",
       "        [[ 0.36109486,  0.21918273, -0.13929841,  0.05378127,\n",
       "           0.27968866, -0.0653356 ]],\n",
       "\n",
       "        [[ 0.00981739,  0.41985676, -0.17508271, -0.15451536,\n",
       "           0.25031662, -0.28838462]],\n",
       "\n",
       "        [[ 0.00399024,  0.43967357, -0.30688834, -0.07586352,\n",
       "           0.17772493, -0.53406227]],\n",
       "\n",
       "        [[-0.05695271, -0.19981936, -0.1642577 , -0.02772415,\n",
       "           0.27358994, -0.47736368]]]], dtype=float32)"
      ]
     },
     "execution_count": 19,
     "metadata": {},
     "output_type": "execute_result"
    }
   ],
   "source": [
    "lenet_5_model.layers[0].get_weights()[0]"
   ]
  },
  {
   "cell_type": "code",
   "execution_count": null,
   "id": "a5121aa1",
   "metadata": {},
   "outputs": [],
   "source": []
  }
 ],
 "metadata": {
  "kernelspec": {
   "display_name": "Python 3",
   "language": "python",
   "name": "python3"
  },
  "language_info": {
   "codemirror_mode": {
    "name": "ipython",
    "version": 3
   },
   "file_extension": ".py",
   "mimetype": "text/x-python",
   "name": "python",
   "nbconvert_exporter": "python",
   "pygments_lexer": "ipython3",
   "version": "3.12.2"
  }
 },
 "nbformat": 4,
 "nbformat_minor": 5
}
